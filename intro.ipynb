{
  "nbformat": 4,
  "nbformat_minor": 0,
  "metadata": {
    "colab": {
      "provenance": [],
      "authorship_tag": "ABX9TyOdgcAF8hrfBNXA1Qyzuf6S",
      "include_colab_link": true
    },
    "kernelspec": {
      "name": "python3",
      "display_name": "Python 3"
    },
    "language_info": {
      "name": "python"
    }
  },
  "cells": [
    {
      "cell_type": "markdown",
      "metadata": {
        "id": "view-in-github",
        "colab_type": "text"
      },
      "source": [
        "<a href=\"https://colab.research.google.com/github/SaiBattula1/test-colab/blob/main/intro.ipynb\" target=\"_parent\"><img src=\"https://colab.research.google.com/assets/colab-badge.svg\" alt=\"Open In Colab\"/></a>"
      ]
    },
    {
      "cell_type": "code",
      "execution_count": null,
      "metadata": {
        "id": "CcOJtgB9_cBT",
        "colab": {
          "base_uri": "https://localhost:8080/"
        },
        "outputId": "05c7fd4e-6823-4852-aaf3-e169627ed41b"
      },
      "outputs": [
        {
          "output_type": "stream",
          "name": "stdout",
          "text": [
            "I'm connecting to GIT repository\n"
          ]
        }
      ],
      "source": [
        "print(\"I'm connecting to GIT repository\")"
      ]
    },
    {
      "cell_type": "code",
      "source": [
        "print('hello colab')"
      ],
      "metadata": {
        "id": "2_MAHdgyIFl0",
        "outputId": "367169af-5943-49bd-8b0a-f1b8ced2715b",
        "colab": {
          "base_uri": "https://localhost:8080/"
        }
      },
      "execution_count": 1,
      "outputs": [
        {
          "output_type": "stream",
          "name": "stdout",
          "text": [
            "hello colab\n"
          ]
        }
      ]
    }
  ]
}